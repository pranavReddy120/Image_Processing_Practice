{
  "cells": [
    {
      "cell_type": "code",
      "execution_count": 2,
      "metadata": {
        "colab": {
          "base_uri": "https://localhost:8080/"
        },
        "id": "UBJflajTYUJv",
        "outputId": "1ca2e26e-0362-489c-fa14-48dbefbd73b8"
      },
      "outputs": [
        {
          "name": "stdout",
          "output_type": "stream",
          "text": [
            "[[0.08235294 0.07450981 0.07450981 ... 0.1764706  0.1764706  0.16862746]\n",
            " [0.18431373 0.16862746 0.12941177 ... 0.1764706  0.1764706  0.1764706 ]\n",
            " [0.2509804  0.25882354 0.29411766 ... 0.1764706  0.1764706  0.16862746]\n",
            " ...\n",
            " [0.19607843 0.16862746 0.15686275 ... 0.         0.         0.        ]\n",
            " [0.19215687 0.16862746 0.12941177 ... 0.         0.         0.        ]\n",
            " [0.19215687 0.18431373 0.12941177 ... 0.11372549 0.         0.        ]]\n",
            "0    sunglasses\n",
            "1    sunglasses\n",
            "2          open\n",
            "3          open\n",
            "4    sunglasses\n",
            "dtype: object\n"
          ]
        }
      ],
      "source": [
        "import tensorflow as tf\n",
        "from tensorflow import keras\n",
        "from tensorflow.keras import layers\n",
        "from tensorflow.keras.optimizers import Adam\n",
        "from sklearn.model_selection import train_test_split\n",
        "from sklearn.preprocessing import LabelEncoder\n",
        "import numpy as np\n",
        "import requests\n",
        "import pickle\n",
        "import io\n",
        "\n",
        "# Import the preprocessed data\n",
        "X_preprocessed_url = \"https://static.bc-edx.com/ai/ail-v-1-0/m19/lesson_2/datasets/pickles/face_images_preprocessed.pkl\"\n",
        "y_url = \"https://static.bc-edx.com/ai/ail-v-1-0/m19/lesson_2/datasets/pickles/sunglasses_y.pkl\"\n",
        "\n",
        "X = pickle.load(io.BytesIO(requests.get(X_preprocessed_url).content))\n",
        "y = pickle.load(io.BytesIO(requests.get(y_url).content))\n",
        "\n",
        "print(X[0])\n",
        "print(y.head())\n"
      ]
    },
    {
      "cell_type": "markdown",
      "metadata": {},
      "source": [
        "This is merely an example of a CNN model; note that we only have one Conv2D layer and one MaxPooling layer. In the end, our validation score is 92% accuracy, which is pretty good! What might we do to improve this model though?"
      ]
    },
    {
      "cell_type": "code",
      "execution_count": 3,
      "metadata": {
        "colab": {
          "base_uri": "https://localhost:8080/"
        },
        "id": "oEfSaYnPYVZc",
        "outputId": "f5c3def1-5131-40a2-acfe-28c2cad4c5f3"
      },
      "outputs": [
        {
          "name": "stdout",
          "output_type": "stream",
          "text": [
            "Epoch 1/10\n",
            "16/16 [==============================] - 0s 16ms/step - loss: 0.6916 - accuracy: 0.5391 - val_loss: 0.6424 - val_accuracy: 0.6720\n",
            "Epoch 2/10\n",
            "16/16 [==============================] - 0s 12ms/step - loss: 0.5630 - accuracy: 0.7535 - val_loss: 0.5450 - val_accuracy: 0.7360\n",
            "Epoch 3/10\n",
            "16/16 [==============================] - 0s 11ms/step - loss: 0.4194 - accuracy: 0.8517 - val_loss: 0.4663 - val_accuracy: 0.8480\n",
            "Epoch 4/10\n",
            "16/16 [==============================] - 0s 12ms/step - loss: 0.3450 - accuracy: 0.8717 - val_loss: 0.3632 - val_accuracy: 0.8480\n",
            "Epoch 5/10\n",
            "16/16 [==============================] - 0s 12ms/step - loss: 0.2548 - accuracy: 0.9359 - val_loss: 0.3078 - val_accuracy: 0.8880\n",
            "Epoch 6/10\n",
            "16/16 [==============================] - 0s 11ms/step - loss: 0.2101 - accuracy: 0.9519 - val_loss: 0.2346 - val_accuracy: 0.9120\n",
            "Epoch 7/10\n",
            "16/16 [==============================] - 0s 12ms/step - loss: 0.1772 - accuracy: 0.9399 - val_loss: 0.2721 - val_accuracy: 0.8800\n",
            "Epoch 8/10\n",
            "16/16 [==============================] - 0s 12ms/step - loss: 0.1445 - accuracy: 0.9659 - val_loss: 0.2168 - val_accuracy: 0.9200\n",
            "Epoch 9/10\n",
            "16/16 [==============================] - 0s 13ms/step - loss: 0.1037 - accuracy: 0.9840 - val_loss: 0.1582 - val_accuracy: 0.9440\n",
            "Epoch 10/10\n",
            "16/16 [==============================] - 0s 13ms/step - loss: 0.0846 - accuracy: 0.9880 - val_loss: 0.1448 - val_accuracy: 0.9440\n"
          ]
        }
      ],
      "source": [
        "# Label encode the y data\n",
        "y_encoder = LabelEncoder().fit(y)\n",
        "y = y_encoder.transform(y)\n",
        "\n",
        "# Convert values to numpy arrays\n",
        "X = np.array(X)\n",
        "\n",
        "# Split the training dataset into training and validation sets\n",
        "X_train, X_test, y_train, y_test = train_test_split(X, y, test_size=0.2, random_state=42)\n",
        "\n",
        "# Define a CNN model\n",
        "model = keras.Sequential([\n",
        "    layers.InputLayer((60,64,1)), #inputs images with height 60, width 64 and 1 channel. Single channels are usually grayscale\n",
        "    layers.Conv2D(32, (3, 3), activation='relu'), #32 kernels/filters are being applied, each with a 3x3 square dimension\n",
        "    layers.MaxPooling2D((2,2)), #takes the maximum value over a 2x2 region\n",
        "    layers.Flatten(), #flattens into a 1D vector\n",
        "    layers.Dense(64, activation='relu'), #dense layer with 64 neurons\n",
        "    layers.Dense(2, activation='sigmoid') #2 neuron binary output layer\n",
        "])\n",
        "    \n",
        "\n",
        "# Compile the model\n",
        "model.compile(optimizer='adam', loss='sparse_categorical_crossentropy', metrics=['accuracy'])\n",
        "\n",
        "# Train the model\n",
        "batch_size = 32\n",
        "epochs = 10 \n",
        "history = model.fit( \n",
        "    X_train, y_train, \n",
        "    validation_data=(X_test,y_test), \n",
        "    epochs=epochs\n",
        ")"
      ]
    }
  ],
  "metadata": {
    "colab": {
      "provenance": []
    },
    "kernelspec": {
      "display_name": "Python 3.9.17 ('dev')",
      "language": "python",
      "name": "python3"
    },
    "language_info": {
      "codemirror_mode": {
        "name": "ipython",
        "version": 3
      },
      "file_extension": ".py",
      "mimetype": "text/x-python",
      "name": "python",
      "nbconvert_exporter": "python",
      "pygments_lexer": "ipython3",
      "version": "3.9.17"
    },
    "vscode": {
      "interpreter": {
        "hash": "caeb93e0c684d3bd81d88b6578a6aeba546c7425658c4217d79fa0d92d9f2865"
      }
    }
  },
  "nbformat": 4,
  "nbformat_minor": 0
}
